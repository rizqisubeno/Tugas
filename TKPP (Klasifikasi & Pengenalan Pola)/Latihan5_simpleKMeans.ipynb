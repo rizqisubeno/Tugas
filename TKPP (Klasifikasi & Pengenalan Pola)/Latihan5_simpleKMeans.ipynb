{
 "cells": [
  {
   "attachments": {},
   "cell_type": "markdown",
   "metadata": {},
   "source": [
    "# K-Means Clustering Algorithm\n",
    "## Changelog :\n",
    "v0.0.1-beta0:\n",
    "- simple k-means clustering algorithm created\n",
    "- randomize the centroid again when first iteration the centroid is outside the range of the data point\n",
    "## Future Changelog:\n",
    "- Centroid is robust and location not changed every fitting run\n"
   ]
  },
  {
   "cell_type": "code",
   "execution_count": 91,
   "metadata": {},
   "outputs": [],
   "source": [
    "\"\"\"\n",
    "Tugas TKPP - Implementasi Algoritma K-Means Clustering v0.0.1-beta0\n",
    "Author  : M. Rizqi S.\n",
    "NIM     : 22/495313/PTK/14431\n",
    "\"\"\"\n",
    "import numpy as np\n",
    "from numpy.random import uniform\n",
    "import pandas as pd\n",
    "import matplotlib.pyplot as plt"
   ]
  },
  {
   "attachments": {},
   "cell_type": "markdown",
   "metadata": {},
   "source": [
    "## Input data w/o knowing classes"
   ]
  },
  {
   "cell_type": "code",
   "execution_count": 92,
   "metadata": {},
   "outputs": [],
   "source": [
    "data = np.array([[0.36, 0.47], [0.36, 0.57], [0.15, 0.57], [0.10, 0.78],\n",
    "                 [0.21, 0.83], [0.41, 0.10], [0.62, 0.05], [0.67, 0.15],\n",
    "                 [0.93, 0.01], [0.93, 0.05], [0.99, 0.21], [0.57, 0.05],\n",
    "                 [0.83, 0.83], [0.73, 0.93], [0.57, 0.57], [0.99, 0.57]])"
   ]
  },
  {
   "attachments": {},
   "cell_type": "markdown",
   "metadata": {},
   "source": [
    "B'cause k-means clustering is distance based, so we need calculate distance between centroid and dataset input. I use euclidean distance algorithm to calculate distance :\n",
    "$$ED(A,B) = \\sqrt{\\sum_{k=1}^N(a_k-b_k)^2}$$"
   ]
  },
  {
   "cell_type": "code",
   "execution_count": 93,
   "metadata": {},
   "outputs": [],
   "source": [
    "def euclidean(centroid, x):\n",
    "    \"\"\"\n",
    "    Euclidean distance between centroid & x point.\n",
    "    \"\"\"\n",
    "    return np.sqrt(np.sum((x - centroid)**2, axis=1))  "
   ]
  },
  {
   "attachments": {},
   "cell_type": "markdown",
   "metadata": {},
   "source": [
    "## Class function of K-Means Clustering Algorithms"
   ]
  },
  {
   "cell_type": "code",
   "execution_count": 94,
   "metadata": {},
   "outputs": [],
   "source": [
    "class KMeans():\n",
    "    # set default initialization for number of cluster 3 and max iteration is 100\n",
    "    def __init__(self, n_cluster=3, max_iter=100):\n",
    "        self.n_cluster = n_cluster\n",
    "        self.max_iter = max_iter\n",
    "        self.sorted_points = [[] for _ in range(self.n_cluster)]\n",
    "    \n",
    "    def init_random_centroids(self, data):\n",
    "        #randomly selected centroid start points,\n",
    "        #on range minimum and maximum data points.\n",
    "        x1 = data[:,0]\n",
    "        x2 = data[:,1]  \n",
    "        x1_min, x1_max = np.min(x1), np.max(x1)\n",
    "        x2_min, x2_max = np.min(x2), np.max(x2)\n",
    "        self.centroids = np.array([[uniform(x1_min,x1_max), uniform(x2_min,x2_max)]\n",
    "                         for _ in range(self.n_cluster)])\n",
    "\n",
    "    def sorted_point_data(self, data):\n",
    "        #sorting data points which nearest from centroid\n",
    "        for x in data:\n",
    "            distance = euclidean(self.centroids, x)\n",
    "            centroid_idx = np.argmin(distance)\n",
    "            self.sorted_points[centroid_idx].append(x)\n",
    "\n",
    "    #fitting the model \n",
    "    def fit(self, data):\n",
    "        #initializing random centroid\n",
    "        self.init_random_centroids(data)\n",
    "\n",
    "        #perform iteration to optimizing the centroid location\n",
    "        iteration = 0\n",
    "        prev_centroids = None\n",
    "        # looping until every centroid has same position with previous calculation centroid \n",
    "        # and number of iterations less than maximum iteration (self.max_iter)\n",
    "        while np.not_equal(self.centroids, prev_centroids).any() and iteration < self.max_iter:\n",
    "            # Sort each data point, assigning to nearest centroid\n",
    "            self.sorted_points = [[] for _ in range(self.n_cluster)]\n",
    "            self.sorted_point_data(data)\n",
    "\n",
    "            # randomize centroid again when first iteration have zero point array on sorted_points list\n",
    "            # because initialization centroid must have at least one point array on sorted_points list\n",
    "            if iteration == 0:\n",
    "                change_centroid = False\n",
    "                for point in self.sorted_points:\n",
    "                    if (len(point)==0):\n",
    "                        change_centroid = True\n",
    "                        break\n",
    "                if (change_centroid):\n",
    "                    self.init_random_centroids(data)\n",
    "                    self.sorted_point_data(data)\n",
    "\n",
    "            # Push current centroids to previous, \n",
    "            # reassign centroids as mean of the points belonging to them\n",
    "            prev_centroids = self.centroids\n",
    "            self.centroids = np.array([np.mean(cluster, axis=0) for cluster in self.sorted_points])\n",
    "            # enumerate give 2 variable :\n",
    "            # the count of current iteration\n",
    "            # the value of the item in current iteration\n",
    "            for i, centroid in enumerate(self.centroids):\n",
    "                # Catch any np.nans, resulting from a centroid having no points\n",
    "                if np.isnan(centroid).any():  \n",
    "                    self.centroids[i] = prev_centroids[i]\n",
    "            iteration += 1\n",
    "\n",
    "        print(\"fitting finish at iteration {}\".format(iteration))\n",
    "\n",
    "    def get_centroid(self):\n",
    "        return self.centroids"
   ]
  },
  {
   "cell_type": "code",
   "execution_count": 95,
   "metadata": {},
   "outputs": [
    {
     "name": "stdout",
     "output_type": "stream",
     "text": [
      "fitting finish at iteration 2\n"
     ]
    }
   ],
   "source": [
    "k_means = KMeans(n_cluster=3, max_iter=10)\n",
    "k_means.fit(data)\n",
    "\n",
    "centroid = k_means.get_centroid()"
   ]
  },
  {
   "cell_type": "code",
   "execution_count": 96,
   "metadata": {},
   "outputs": [
    {
     "data": {
      "image/png": "[encoded data removed]",
      "text/plain": [
       "<Figure size 640x480 with 1 Axes>"
      ]
     },
     "metadata": {},
     "output_type": "display_data"
    }
   ],
   "source": [
    "x1 = data[:,0]\n",
    "x2 = data[:,1]\n",
    "x1_centroid = centroid[:,0]\n",
    "x2_centroid = centroid[:,1]\n",
    "\n",
    "plt.scatter(x1,x2,color=\"blue\")\n",
    "plt.scatter(x1_centroid, x2_centroid,color=\"red\", s=120)\n",
    "plt.grid(True)\n",
    "plt.show()"
   ]
  }
 ],
 "metadata": {
  "kernelspec": {
   "display_name": "base",
   "language": "python",
   "name": "python3"
  },
  "language_info": {
   "codemirror_mode": {
    "name": "ipython",
    "version": 3
   },
   "file_extension": ".py",
   "mimetype": "text/x-python",
   "name": "python",
   "nbconvert_exporter": "python",
   "pygments_lexer": "ipython3",
   "version": "3.10.9"
  },
  "orig_nbformat": 4
 },
 "nbformat": 4,
 "nbformat_minor": 2
}
