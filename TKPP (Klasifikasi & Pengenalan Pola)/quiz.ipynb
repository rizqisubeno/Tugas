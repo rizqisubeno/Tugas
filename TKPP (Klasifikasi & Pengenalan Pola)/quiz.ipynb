{
 "cells": [
  {
   "cell_type": "code",
   "execution_count": 20,
   "metadata": {},
   "outputs": [],
   "source": [
    "\"\"\"\n",
    "QUIZ - Teknik Klasifikasi dan Pengenalan Pola\n",
    "Author  : Muhammad Rizqi Subeno\n",
    "NIM     : 22/495313/PTK/14431\n",
    "\"\"\"\n",
    "import numpy as np\n",
    "import pandas as pd\n",
    "import matplotlib.pyplot as plt"
   ]
  },
  {
   "cell_type": "code",
   "execution_count": 21,
   "metadata": {},
   "outputs": [],
   "source": [
    "data = np.array([[0.6, 1.9], [0.8, 2.0], [1.2, 0.6], [2.2, 0.5],\n",
    "                 [1.5, 0.5], [1.9, 2.0], [2.2, 1.9]])\n",
    "\n",
    "kelas = np.array([1, 1, 2, 2, 2, 3, 3])\n",
    "\n",
    "x1 = data[:,0]\n",
    "x2 = data[:,1]"
   ]
  },
  {
   "cell_type": "code",
   "execution_count": 22,
   "metadata": {},
   "outputs": [
    {
     "data": {
      "text/html": [
       "<div>\n",
       "<style scoped>\n",
       "    .dataframe tbody tr th:only-of-type {\n",
       "        vertical-align: middle;\n",
       "    }\n",
       "\n",
       "    .dataframe tbody tr th {\n",
       "        vertical-align: top;\n",
       "    }\n",
       "\n",
       "    .dataframe thead th {\n",
       "        text-align: right;\n",
       "    }\n",
       "</style>\n",
       "<table border=\"1\" class=\"dataframe\">\n",
       "  <thead>\n",
       "    <tr style=\"text-align: right;\">\n",
       "      <th></th>\n",
       "      <th>x1</th>\n",
       "      <th>x2</th>\n",
       "      <th>kelas</th>\n",
       "    </tr>\n",
       "  </thead>\n",
       "  <tbody>\n",
       "    <tr>\n",
       "      <th>0</th>\n",
       "      <td>0.6</td>\n",
       "      <td>1.9</td>\n",
       "      <td>1</td>\n",
       "    </tr>\n",
       "    <tr>\n",
       "      <th>1</th>\n",
       "      <td>0.8</td>\n",
       "      <td>2.0</td>\n",
       "      <td>1</td>\n",
       "    </tr>\n",
       "    <tr>\n",
       "      <th>2</th>\n",
       "      <td>1.2</td>\n",
       "      <td>0.6</td>\n",
       "      <td>2</td>\n",
       "    </tr>\n",
       "    <tr>\n",
       "      <th>3</th>\n",
       "      <td>2.2</td>\n",
       "      <td>0.5</td>\n",
       "      <td>2</td>\n",
       "    </tr>\n",
       "    <tr>\n",
       "      <th>4</th>\n",
       "      <td>1.5</td>\n",
       "      <td>0.5</td>\n",
       "      <td>2</td>\n",
       "    </tr>\n",
       "    <tr>\n",
       "      <th>5</th>\n",
       "      <td>1.9</td>\n",
       "      <td>2.0</td>\n",
       "      <td>3</td>\n",
       "    </tr>\n",
       "    <tr>\n",
       "      <th>6</th>\n",
       "      <td>2.2</td>\n",
       "      <td>1.9</td>\n",
       "      <td>3</td>\n",
       "    </tr>\n",
       "  </tbody>\n",
       "</table>\n",
       "</div>"
      ],
      "text/plain": [
       "    x1   x2  kelas\n",
       "0  0.6  1.9      1\n",
       "1  0.8  2.0      1\n",
       "2  1.2  0.6      2\n",
       "3  2.2  0.5      2\n",
       "4  1.5  0.5      2\n",
       "5  1.9  2.0      3\n",
       "6  2.2  1.9      3"
      ]
     },
     "metadata": {},
     "output_type": "display_data"
    }
   ],
   "source": [
    "df = pd.DataFrame({\"x1\":x1, \"x2\":x2, \"kelas\":kelas})\n",
    "display(df)"
   ]
  },
  {
   "attachments": {},
   "cell_type": "markdown",
   "metadata": {},
   "source": [
    "1. Tampilan 2D untuk Tabel tersebut"
   ]
  },
  {
   "cell_type": "code",
   "execution_count": 23,
   "metadata": {},
   "outputs": [
    {
     "data": {
      "image/png": "[encoded data removed]",
      "text/plain": [
       "<Figure size 640x480 with 1 Axes>"
      ]
     },
     "metadata": {},
     "output_type": "display_data"
    }
   ],
   "source": [
    "plt.scatter(x1, x2, color=\"blue\", marker=\".\")\n",
    "plt.grid(True)\n",
    "plt.show()  "
   ]
  },
  {
   "attachments": {},
   "cell_type": "markdown",
   "metadata": {},
   "source": [
    "-----------------------------------------------------"
   ]
  },
  {
   "attachments": {},
   "cell_type": "markdown",
   "metadata": {},
   "source": [
    "2a. Buat program untuk menentukan persamaan garis pembeda (decision line) untuk masing - masing pola."
   ]
  },
  {
   "attachments": {},
   "cell_type": "markdown",
   "metadata": {},
   "source": [
    "## Fungsi aktivasi bipolar / hardlim\n",
    "$$hardlim(x)=\\begin{cases}\n",
    "1, \\text{if } x\\geq0 \\\\\n",
    "-1, \\text{if } x<0 \\end{cases}$$"
   ]
  },
  {
   "cell_type": "code",
   "execution_count": 24,
   "metadata": {},
   "outputs": [],
   "source": [
    "def aktivasi_hardlim(x):\n",
    "    out = np.array([-1 if x_<0 else 1 for x_ in x])\n",
    "    return out"
   ]
  },
  {
   "attachments": {},
   "cell_type": "markdown",
   "metadata": {},
   "source": [
    "Fungsi klasifikasi dengan Regresi Linear\n",
    "$$\\begin{aligned}\\begin{aligned}\\begin{pmatrix}\n",
    "1.0 & x1_{0} & x2_{0} \\\\\n",
    "1.0 & x1_{1} & x2_{1} \\\\\n",
    "1.0 & ... & ... \\\\\n",
    "1.0 & x1_{n} & x2_{n} \\\\ \\end{pmatrix}\\end{aligned}\\begin{pmatrix}\n",
    "w0 \\\\ w1 \\\\ w2\\end{pmatrix}&=\\begin{pmatrix}\n",
    "+1 \\\\ ... \\\\ ... \\\\ -1 \\end{pmatrix} \\\\\n",
    "\\begin{pmatrix} \n",
    "w0 \\\\ w1 \\\\ w2 \\end{pmatrix} &=\n",
    "\\begin{pmatrix}\\begin{pmatrix}\n",
    "1.0 & 1.0 & ... & 1.0 \\\\ \n",
    "x1_{0} & x1_{1} & ... & x1_{n} \\\\\n",
    "x2_{0} & x2_{1} & ... & x2_{n} \\end{pmatrix}\\begin{pmatrix}\n",
    "1.0 & x1_{0} & x2_{0} \\\\\n",
    "1.0 & x1_{1} & x2_{1} \\\\\n",
    "1.0 & ... & ... \\\\\n",
    "1.0 & x1_{n} & x2_{n} \\\\ \\end{pmatrix}\\end{pmatrix}^{-1}\n",
    "\\begin{pmatrix}\n",
    "1.0 & 1.0 & ... & 1.0 \\\\ \n",
    "x1_{0} & x1_{1} & ... & x1_{n} \\\\\n",
    "x2_{0} & x2_{1} & ... & x2_{n} \\end{pmatrix}\n",
    "\\begin{pmatrix}\n",
    "+1 \\\\ ... \\\\ ... \\\\ -1 \\end{pmatrix}\\end{aligned}$$"
   ]
  },
  {
   "cell_type": "code",
   "execution_count": 25,
   "metadata": {},
   "outputs": [],
   "source": [
    "def klasifikasi_regresi_linear(inp, out):\n",
    "    return np.matmul(np.matmul(np.linalg.inv(np.matmul(inp.T,inp)),inp.T),out)"
   ]
  },
  {
   "attachments": {},
   "cell_type": "markdown",
   "metadata": {},
   "source": [
    "bentuk input seperti matriks diatas\n",
    "$$\\begin{aligned}\\begin{pmatrix}\n",
    "x1_{0} & x2_{0} \\\\\n",
    "x1_{1} & x2_{1} \\\\\n",
    "... & ... \\\\\n",
    "x1_{n} & x2_{n} \\\\\\end{pmatrix}\\end{aligned} \\rightarrow\n",
    "\\begin{aligned}\\begin{pmatrix}\n",
    "1.0 & x1_{0} & x2_{0} \\\\\n",
    "1.0 & x1_{1} & x2_{1} \\\\\n",
    "1.0 & ... & ... \\\\\n",
    "1.0 & x1_{n} & x2_{n} \\\\\\end{pmatrix}\\end{aligned}$$"
   ]
  },
  {
   "cell_type": "code",
   "execution_count": 26,
   "metadata": {},
   "outputs": [],
   "source": [
    "def klasifikasi_kelas(data):\n",
    "\n",
    "    # tambah bias pada matrix input\n",
    "    jumlah_data, _ = data.shape\n",
    "    bias = np.array([[1] for _ in range(jumlah_data)]) \n",
    "    input_data = np.hstack((bias, data)) \n",
    "\n",
    "    # batas data tiap kelas\n",
    "    kelas_1 = [0, 2]\n",
    "    kelas_2 = [2, 5]\n",
    "    kelas_3 = [5, 7]\n",
    "\n",
    "    # urutan klasifikasi kelas\n",
    "    urutan_klasifikasi = np.array([[kelas_1, kelas_2], \n",
    "                                   [kelas_1, kelas_3], \n",
    "                                   [kelas_2, kelas_3]])\n",
    "    \n",
    "    #inisiasi weight untuk 3 klasfikasi\n",
    "    n_urutan, _, _ = urutan_klasifikasi.shape\n",
    "    weight = np.zeros((n_urutan, 3))\n",
    "\n",
    "    # iterasi untuk klasifikasi kelas\n",
    "    for i in range(n_urutan):\n",
    "        kelas_1 = input_data[urutan_klasifikasi[i][0][0]:urutan_klasifikasi[i][0][1],:]\n",
    "        kelas_2 = input_data[urutan_klasifikasi[i][1][0]:urutan_klasifikasi[i][1][1],:]\n",
    "        input_kelas = np.vstack((kelas_1, kelas_2))\n",
    "\n",
    "        out_kelas1 = np.array([[1] for _ in range(len(kelas_1))])\n",
    "        out_kelas2 = np.array([[-1] for _ in range(len(kelas_2))])\n",
    "        output_kelas = np.vstack((out_kelas1, out_kelas2))\n",
    "\n",
    "        weight[i] = np.round(np.transpose(klasifikasi_regresi_linear(input_kelas, output_kelas)),1)\n",
    "    \n",
    "    return weight\n",
    "        \n"
   ]
  },
  {
   "cell_type": "code",
   "execution_count": 27,
   "metadata": {},
   "outputs": [],
   "source": [
    "# panggil klasifikasi kelas\n",
    "weight = klasifikasi_kelas(data)\n",
    "\n",
    "jumlah_data, _ = data.shape\n",
    "\n",
    "# tambah bias pada matrix input\n",
    "bias = np.array([[1] for _ in range(jumlah_data)]) \n",
    "input_data = np.hstack((bias, data)) \n",
    "\n",
    "# perkalian bobot yang telah dikalkulasikan dikalikan dengan input \n",
    "# untuk penentuan nilai klasifikasi dengan garis\n",
    "y0 = np.matmul(weight[0], input_data.T)\n",
    "y1 = np.matmul(weight[1], input_data.T)\n",
    "y2 = np.matmul(weight[2], input_data.T)\n",
    "\n",
    "#bulatkan ke 1 angka decimal\n",
    "y0 = np.round(y0, 1)\n",
    "y1 = np.round(y1, 1)\n",
    "y2 = np.round(y2, 1)\n",
    "\n",
    "#aktivasi menggunakan hardlimit output +1 dan -1\n",
    "F0 = aktivasi_hardlim(y0)\n",
    "F1 = aktivasi_hardlim(y1)\n",
    "F2 = aktivasi_hardlim(y2)\n"
   ]
  },
  {
   "attachments": {},
   "cell_type": "markdown",
   "metadata": {},
   "source": [
    "labelling data"
   ]
  },
  {
   "cell_type": "code",
   "execution_count": 28,
   "metadata": {},
   "outputs": [],
   "source": [
    "# batas data tiap kelas\n",
    "kelas_1 = [0, 2]\n",
    "kelas_2 = [2, 5]\n",
    "kelas_3 = [5, 7]\n",
    "\n",
    "#labelling data\n",
    "klasifikasi_1 = np.append(np.arange(kelas_1[0], kelas_1[1]), np.arange(kelas_2[0], kelas_2[1]))\n",
    "klasifikasi_2 = np.append(np.arange(kelas_1[0], kelas_1[1]), np.arange(kelas_3[0], kelas_3[1]))\n",
    "klasifikasi_3 = np.append(np.arange(kelas_2[0], kelas_2[1]), np.arange(kelas_2[0], kelas_2[1]))\n",
    "\n",
    "out = np.empty(shape=jumlah_data, dtype=object)\n",
    "\n",
    "for i in klasifikasi_1:\n",
    "    if F0[i] == 1:\n",
    "        out[i] = \"kelas 1\"\n",
    "    elif F0[i] == -1:\n",
    "        out[i] = \"kelas 2\"  \n",
    "\n",
    "for i in klasifikasi_2:\n",
    "    if F1[i] == 1:\n",
    "        out[i] = \"kelas 1\"\n",
    "    elif F1[i] == -1:\n",
    "        out[i] = \"kelas 3\"\n",
    "\n",
    "for i in klasifikasi_3:\n",
    "    if F2[i] == 1:\n",
    "        out[i] = \"kelas 2\"\n",
    "    elif F2[i] == -1:\n",
    "        out[i] = \"kelas 3\" "
   ]
  },
  {
   "attachments": {},
   "cell_type": "markdown",
   "metadata": {},
   "source": [
    "tampilkan dalam bentuk tabel"
   ]
  },
  {
   "cell_type": "code",
   "execution_count": 29,
   "metadata": {},
   "outputs": [
    {
     "data": {
      "text/html": [
       "<div>\n",
       "<style scoped>\n",
       "    .dataframe tbody tr th:only-of-type {\n",
       "        vertical-align: middle;\n",
       "    }\n",
       "\n",
       "    .dataframe tbody tr th {\n",
       "        vertical-align: top;\n",
       "    }\n",
       "\n",
       "    .dataframe thead th {\n",
       "        text-align: right;\n",
       "    }\n",
       "</style>\n",
       "<table border=\"1\" class=\"dataframe\">\n",
       "  <thead>\n",
       "    <tr style=\"text-align: right;\">\n",
       "      <th></th>\n",
       "      <th>x1</th>\n",
       "      <th>x2</th>\n",
       "      <th>y0</th>\n",
       "      <th>y1</th>\n",
       "      <th>y2</th>\n",
       "      <th>F0</th>\n",
       "      <th>F1</th>\n",
       "      <th>F2</th>\n",
       "      <th>out</th>\n",
       "    </tr>\n",
       "  </thead>\n",
       "  <tbody>\n",
       "    <tr>\n",
       "      <th>1</th>\n",
       "      <td>0.6</td>\n",
       "      <td>1.9</td>\n",
       "      <td>1.0</td>\n",
       "      <td>1.2</td>\n",
       "      <td>-0.7</td>\n",
       "      <td>1</td>\n",
       "      <td>1</td>\n",
       "      <td>-1</td>\n",
       "      <td>kelas 1</td>\n",
       "    </tr>\n",
       "    <tr>\n",
       "      <th>2</th>\n",
       "      <td>0.8</td>\n",
       "      <td>2.0</td>\n",
       "      <td>1.2</td>\n",
       "      <td>0.9</td>\n",
       "      <td>-0.9</td>\n",
       "      <td>1</td>\n",
       "      <td>1</td>\n",
       "      <td>-1</td>\n",
       "      <td>kelas 1</td>\n",
       "    </tr>\n",
       "    <tr>\n",
       "      <th>3</th>\n",
       "      <td>1.2</td>\n",
       "      <td>0.6</td>\n",
       "      <td>-0.9</td>\n",
       "      <td>1.3</td>\n",
       "      <td>1.0</td>\n",
       "      <td>-1</td>\n",
       "      <td>1</td>\n",
       "      <td>1</td>\n",
       "      <td>kelas 2</td>\n",
       "    </tr>\n",
       "    <tr>\n",
       "      <th>4</th>\n",
       "      <td>2.2</td>\n",
       "      <td>0.5</td>\n",
       "      <td>-0.9</td>\n",
       "      <td>-0.0</td>\n",
       "      <td>1.1</td>\n",
       "      <td>-1</td>\n",
       "      <td>1</td>\n",
       "      <td>1</td>\n",
       "      <td>kelas 2</td>\n",
       "    </tr>\n",
       "    <tr>\n",
       "      <th>5</th>\n",
       "      <td>1.5</td>\n",
       "      <td>0.5</td>\n",
       "      <td>-1.0</td>\n",
       "      <td>1.0</td>\n",
       "      <td>1.2</td>\n",
       "      <td>-1</td>\n",
       "      <td>1</td>\n",
       "      <td>1</td>\n",
       "      <td>kelas 2</td>\n",
       "    </tr>\n",
       "    <tr>\n",
       "      <th>6</th>\n",
       "      <td>1.9</td>\n",
       "      <td>2.0</td>\n",
       "      <td>1.3</td>\n",
       "      <td>-0.7</td>\n",
       "      <td>-1.0</td>\n",
       "      <td>1</td>\n",
       "      <td>-1</td>\n",
       "      <td>-1</td>\n",
       "      <td>kelas 3</td>\n",
       "    </tr>\n",
       "    <tr>\n",
       "      <th>7</th>\n",
       "      <td>2.2</td>\n",
       "      <td>1.9</td>\n",
       "      <td>1.2</td>\n",
       "      <td>-1.0</td>\n",
       "      <td>-0.9</td>\n",
       "      <td>1</td>\n",
       "      <td>-1</td>\n",
       "      <td>-1</td>\n",
       "      <td>kelas 3</td>\n",
       "    </tr>\n",
       "  </tbody>\n",
       "</table>\n",
       "</div>"
      ],
      "text/plain": [
       "    x1   x2   y0   y1   y2  F0  F1  F2      out\n",
       "1  0.6  1.9  1.0  1.2 -0.7   1   1  -1  kelas 1\n",
       "2  0.8  2.0  1.2  0.9 -0.9   1   1  -1  kelas 1\n",
       "3  1.2  0.6 -0.9  1.3  1.0  -1   1   1  kelas 2\n",
       "4  2.2  0.5 -0.9 -0.0  1.1  -1   1   1  kelas 2\n",
       "5  1.5  0.5 -1.0  1.0  1.2  -1   1   1  kelas 2\n",
       "6  1.9  2.0  1.3 -0.7 -1.0   1  -1  -1  kelas 3\n",
       "7  2.2  1.9  1.2 -1.0 -0.9   1  -1  -1  kelas 3"
      ]
     },
     "metadata": {},
     "output_type": "display_data"
    }
   ],
   "source": [
    "df = pd.DataFrame({\"x1\":x1, \"x2\":x2, \"y0\":y0, \"y1\":y1, \n",
    "                   \"y2\":y2, \"F0\":F0, \"F1\":F1, \"F2\":F2, \"out\": out})\n",
    "df.index += 1\n",
    "display(df)"
   ]
  },
  {
   "attachments": {},
   "cell_type": "markdown",
   "metadata": {},
   "source": [
    "2b. tuliskan persamaan garis pembeda"
   ]
  },
  {
   "cell_type": "code",
   "execution_count": 30,
   "metadata": {},
   "outputs": [
    {
     "name": "stdout",
     "output_type": "stream",
     "text": [
      "persamaan ke-0 : -1.9+0.1x1+1.5x2=0\n",
      "persamaan ke-1 : 3.4+-1.4x1+-0.7x2=0\n",
      "persamaan ke-2 : 2.0+-0.1x1+-1.4x2=0\n"
     ]
    }
   ],
   "source": [
    "for i in range(3):\n",
    "    print(\"persamaan ke-{} : {}+{}x1+{}x2=0\".format(i, weight[i][0], weight[i][1], weight[i][2]))"
   ]
  },
  {
   "attachments": {},
   "cell_type": "markdown",
   "metadata": {},
   "source": [
    "2c. tampilkan matriks bobot"
   ]
  },
  {
   "cell_type": "code",
   "execution_count": 31,
   "metadata": {},
   "outputs": [
    {
     "name": "stdout",
     "output_type": "stream",
     "text": [
      "vektor bobot klasifikasi ke-0 adalah \n",
      "[-1.9  0.1  1.5]\n",
      "vektor bobot klasifikasi ke-1 adalah \n",
      "[ 3.4 -1.4 -0.7]\n",
      "vektor bobot klasifikasi ke-2 adalah \n",
      "[ 2.  -0.1 -1.4]\n"
     ]
    }
   ],
   "source": [
    "for i in range(3):\n",
    "    print(\"vektor bobot klasifikasi ke-{} adalah \\n{}\".format(i, weight[i]))"
   ]
  },
  {
   "attachments": {},
   "cell_type": "markdown",
   "metadata": {},
   "source": [
    "2d. ketika ada masukkan (x1,x2)= (2.2, 1.4), tentukan termasuk di dalam pola mana."
   ]
  },
  {
   "cell_type": "code",
   "execution_count": 32,
   "metadata": {},
   "outputs": [],
   "source": [
    "cek_input=np.array([2.2, 1.4])\n",
    "\n",
    "# adding bias to cek_input\n",
    "input_data = np.hstack(([1],cek_input))\n",
    "\n",
    "y0 = np.matmul(weight[0], input_data)\n",
    "y1 = np.matmul(weight[1], input_data)\n",
    "y2 = np.matmul(weight[2], input_data)\n",
    "\n",
    "# bulatkan\n",
    "y0 = np.round(y0, 1)\n",
    "y1 = np.round(y1, 1)\n",
    "y2 = np.round(y2, 1)\n",
    "\n",
    "F0 = -1 if y0<0 else 1\n",
    "F1 = -1 if y1<0 else 1\n",
    "F2 = -1 if y2<0 else 1"
   ]
  },
  {
   "cell_type": "code",
   "execution_count": 33,
   "metadata": {},
   "outputs": [
    {
     "data": {
      "text/html": [
       "<div>\n",
       "<style scoped>\n",
       "    .dataframe tbody tr th:only-of-type {\n",
       "        vertical-align: middle;\n",
       "    }\n",
       "\n",
       "    .dataframe tbody tr th {\n",
       "        vertical-align: top;\n",
       "    }\n",
       "\n",
       "    .dataframe thead th {\n",
       "        text-align: right;\n",
       "    }\n",
       "</style>\n",
       "<table border=\"1\" class=\"dataframe\">\n",
       "  <thead>\n",
       "    <tr style=\"text-align: right;\">\n",
       "      <th></th>\n",
       "      <th>x1</th>\n",
       "      <th>x2</th>\n",
       "      <th>y0</th>\n",
       "      <th>y1</th>\n",
       "      <th>y2</th>\n",
       "      <th>F0</th>\n",
       "      <th>F1</th>\n",
       "      <th>F2</th>\n",
       "    </tr>\n",
       "  </thead>\n",
       "  <tbody>\n",
       "    <tr>\n",
       "      <th>1</th>\n",
       "      <td>2.2</td>\n",
       "      <td>1.4</td>\n",
       "      <td>0.4</td>\n",
       "      <td>-0.7</td>\n",
       "      <td>-0.2</td>\n",
       "      <td>1</td>\n",
       "      <td>-1</td>\n",
       "      <td>-1</td>\n",
       "    </tr>\n",
       "  </tbody>\n",
       "</table>\n",
       "</div>"
      ],
      "text/plain": [
       "    x1   x2   y0   y1   y2  F0  F1  F2\n",
       "1  2.2  1.4  0.4 -0.7 -0.2   1  -1  -1"
      ]
     },
     "metadata": {},
     "output_type": "display_data"
    }
   ],
   "source": [
    "df_cek = pd.DataFrame({\"x1\":cek_input[0], \"x2\":cek_input[1], \"y0\":y0, \"y1\":y1, \n",
    "                       \"y2\":y2, \"F0\":F0, \"F1\":F1, \"F2\":F2}, index=[1])\n",
    "display(df_cek)"
   ]
  },
  {
   "attachments": {},
   "cell_type": "markdown",
   "metadata": {},
   "source": [
    "Tampilkan dalam bentuk grafik"
   ]
  },
  {
   "cell_type": "code",
   "execution_count": 34,
   "metadata": {},
   "outputs": [
    {
     "data": {
      "image/png": "[encoded data removed]",
      "text/plain": [
       "<Figure size 640x480 with 1 Axes>"
      ]
     },
     "metadata": {},
     "output_type": "display_data"
    }
   ],
   "source": [
    "x = np.arange(0,2.2,0.001)\n",
    "y = lambda x2, w: -(w[0]+w[1]*x2)/w[2]\n",
    "garis_klasifikasi1 = y(x, weight[0])\n",
    "garis_klasifikasi2 = y(x, weight[1])\n",
    "garis_klasifikasi3 = y(x, weight[2]) \n",
    "\n",
    "plt.scatter(x1[0:2], x2[0:2], color=\"red\", marker=\".\", label=\"kelas 1\")\n",
    "plt.scatter(x1[2:5], x2[2:5], color=\"darkgreen\", marker=\".\", label=\"kelas 2\")\n",
    "plt.scatter(x1[5:7], x2[5:7], color=\"blue\", marker=\".\", label=\"kelas 3\")\n",
    "plt.scatter(cek_input[0], cek_input[1], color=\"purple\", marker=\".\", label=\"cek input\")\n",
    "plt.plot(x, garis_klasifikasi1, color=\"red\")\n",
    "plt.plot(x, garis_klasifikasi2, color=\"green\")\n",
    "plt.plot(x, garis_klasifikasi3, color=\"blue\")\n",
    "plt.xlim(0,2.3)\n",
    "plt.ylim(0,2.5)\n",
    "plt.grid(True)\n",
    "plt.legend()\n",
    "plt.show()  "
   ]
  },
  {
   "attachments": {},
   "cell_type": "markdown",
   "metadata": {},
   "source": [
    "<style>\n",
    "th {\n",
    "  padding-top: 5px;\n",
    "  padding-right: 10px;\n",
    "  padding-bottom: 5px;\n",
    "  padding-left: 10px;\n",
    "}\n",
    "</style>\n",
    "\n",
    "|       | F0| F1| F2|\n",
    "| :---: |:-:|:-:|:-:|\n",
    "|Kelas 1| + | + |   |\n",
    "|Kelas 2| - |   | + |\n",
    "|Kelas 3|   | - | - |"
   ]
  },
  {
   "attachments": {},
   "cell_type": "markdown",
   "metadata": {},
   "source": [
    "Apabila masukkan (2.2, 1.4) dimasukkan kedalam klasifikasi garis linear, maka didapatkan (F0:+1, F1:-1, F2:-1). Dilihat dari tabel diatas apabila diklasifikasi menurut baris, termasuk ke dalam kelas 3. Selain itu, apabila dimasukkan ke dalam grafik 2d pada grafik matplotlib, titik termasuk kedalam kelas 3."
   ]
  },
  {
   "attachments": {},
   "cell_type": "markdown",
   "metadata": {},
   "source": [
    "-----------------------------------------------------"
   ]
  },
  {
   "attachments": {},
   "cell_type": "markdown",
   "metadata": {},
   "source": [
    "3a. buat program untuk menentukan kelas dengan metode 3-nn (3 nearest neighbor) dan jarak city-block"
   ]
  },
  {
   "cell_type": "code",
   "execution_count": 35,
   "metadata": {},
   "outputs": [],
   "source": [
    "def city_block(data, x):\n",
    "    \"\"\"\n",
    "    city_block distance between centroid & x point.\n",
    "    \"\"\"\n",
    "    return np.sum(np.abs(data-x), axis=1)"
   ]
  },
  {
   "attachments": {},
   "cell_type": "markdown",
   "metadata": {},
   "source": [
    "K nearest Neighbor -> Supervised Learning on ML"
   ]
  },
  {
   "cell_type": "code",
   "execution_count": 36,
   "metadata": {},
   "outputs": [],
   "source": [
    "def knn_predict(x, data, kelas, num_neighbor=3):\n",
    "    # hitung jarak menggunakan city block\n",
    "    jarak = city_block(data,x)\n",
    "    #print(jarak)\n",
    "    # ambil k-argumen array terdekat yang telah diurutkan (k=num_neighbor)\n",
    "    id_jarak_terdekat = np.argsort(jarak)[:num_neighbor]\n",
    "    #print(id_jarak_terdekat)\n",
    "    #ambil nilai kelas tiap tetangga terdekat\n",
    "    kelas_tetangga = [kelas[i] for i in id_jarak_terdekat]\n",
    "    #print(kelas_tetangga)\n",
    "    # ambil nilai dan kemunculan tiap nilai\n",
    "    val, count = np.unique(kelas_tetangga, return_counts=True)\n",
    "    # print(val)\n",
    "    # print(\"_________\")\n",
    "    # print(count)\n",
    "    # ambil argumen (posisi) pada nilai yang muncul paling banyak\n",
    "    id_most_common = np.argmax(count)\n",
    "    #print(id_most_common)\n",
    "    #output fungsi yaitu kelas terdekat yang sering muncul pada urutan ke-k\n",
    "    return val[id_most_common]"
   ]
  },
  {
   "cell_type": "markdown",
   "metadata": {},
   "source": [
    "3b. masukkan (x1,x2)=(1.4,2.2) tentukan termasuk dalam pola mana"
   ]
  },
  {
   "cell_type": "code",
   "execution_count": 37,
   "metadata": {},
   "outputs": [
    {
     "name": "stdout",
     "output_type": "stream",
     "text": [
      "input x1=1.4, x2=2.2 masuk kelas 1\n"
     ]
    }
   ],
   "source": [
    "cek_input = [1.4,2.2]\n",
    "output_kelas = knn_predict(cek_input, data, kelas, num_neighbor=3)\n",
    "print(\"input x1={}, x2={} masuk kelas {}\".format(cek_input[0], cek_input[1], output_kelas))"
   ]
  },
  {
   "attachments": {},
   "cell_type": "markdown",
   "metadata": {},
   "source": [
    "apabila tidak percaya kode diatas, mari kita buktikan dengan library yang telah ada :"
   ]
  },
  {
   "cell_type": "code",
   "execution_count": 40,
   "metadata": {},
   "outputs": [
    {
     "name": "stdout",
     "output_type": "stream",
     "text": [
      "[1]\n"
     ]
    }
   ],
   "source": [
    "from sklearn.neighbors import KNeighborsClassifier\n",
    "\n",
    "# Create a KNN object with k=3\n",
    "knn = KNeighborsClassifier(n_neighbors=3)\n",
    "\n",
    "# Train the model using training data\n",
    "knn.fit(data, kelas)\n",
    "\n",
    "# Predict the class labels for test data\n",
    "prediksi_kelas = knn.predict([cek_input])\n",
    "print(prediksi_kelas)"
   ]
  }
 ],
 "metadata": {
  "kernelspec": {
   "display_name": "Python 3",
   "language": "python",
   "name": "python3"
  },
  "language_info": {
   "codemirror_mode": {
    "name": "ipython",
    "version": 3
   },
   "file_extension": ".py",
   "mimetype": "text/x-python",
   "name": "python",
   "nbconvert_exporter": "python",
   "pygments_lexer": "ipython3",
   "version": "3.10.6"
  },
  "orig_nbformat": 4
 },
 "nbformat": 4,
 "nbformat_minor": 2
}
