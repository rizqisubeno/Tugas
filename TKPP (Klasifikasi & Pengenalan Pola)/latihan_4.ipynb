{
 "cells": [
  {
   "cell_type": "code",
   "execution_count": 119,
   "metadata": {},
   "outputs": [],
   "source": [
    "import numpy as np\n",
    "import matplotlib.pyplot as plt\n",
    "import pandas as pd"
   ]
  },
  {
   "attachments": {},
   "cell_type": "markdown",
   "metadata": {},
   "source": [
    "masukkan input data \n",
    "- x1_data -> x1\n",
    "- x2_data -> x2"
   ]
  },
  {
   "cell_type": "code",
   "execution_count": 120,
   "metadata": {},
   "outputs": [],
   "source": [
    "data = np.array([[0.36, 0.47], [0.36, 0.57], [0.15, 0.57], [0.10, 0.78],\n",
    "                 [0.21, 0.83], [0.41, 0.10], [0.62, 0.05], [0.67, 0.15],\n",
    "                 [0.93, 0.01], [0.93, 0.05], [0.99, 0.21], [0.57, 0.05],\n",
    "                 [0.83, 0.83], [0.73, 0.93], [0.57, 0.57], [0.99, 0.57]])\n",
    "x1_data = data[:,0]\n",
    "x2_data = data[:,1]"
   ]
  },
  {
   "attachments": {},
   "cell_type": "markdown",
   "metadata": {},
   "source": [
    "## Fungsi klasifikasi dengan Regresi Linear\n",
    "$$\\begin{aligned}\\begin{aligned}\\begin{pmatrix}\n",
    "1.0 & x1_{0} & x2_{0} \\\\\n",
    "1.0 & x1_{1} & x2_{1} \\\\\n",
    "1.0 & ... & ... \\\\\n",
    "1.0 & x1_{n} & x2_{n} \\\\ \\end{pmatrix}\\end{aligned}\\begin{pmatrix}\n",
    "w0 \\\\ w1 \\\\ w2\\end{pmatrix}&=\\begin{pmatrix}\n",
    "+1 \\\\ ... \\\\ ... \\\\ -1 \\end{pmatrix} \\\\\n",
    "\\begin{pmatrix} \n",
    "w0 \\\\ w1 \\\\ w2 \\end{pmatrix} &=\n",
    "\\begin{pmatrix}\\begin{pmatrix}\n",
    "1.0 & 1.0 & ... & 1.0 \\\\ \n",
    "x1_{0} & x1_{1} & ... & x1_{n} \\\\\n",
    "x2_{0} & x2_{1} & ... & x2_{n} \\end{pmatrix}\\begin{pmatrix}\n",
    "1.0 & x1_{0} & x2_{0} \\\\\n",
    "1.0 & x1_{1} & x2_{1} \\\\\n",
    "1.0 & ... & ... \\\\\n",
    "1.0 & x1_{n} & x2_{n} \\\\ \\end{pmatrix}\\end{pmatrix}^{-1}\n",
    "\\begin{pmatrix}\n",
    "1.0 & 1.0 & ... & 1.0 \\\\ \n",
    "x1_{0} & x1_{1} & ... & x1_{n} \\\\\n",
    "x2_{0} & x2_{1} & ... & x2_{n} \\end{pmatrix}\n",
    "\\begin{pmatrix}\n",
    "+1 \\\\ ... \\\\ ... \\\\ -1 \\end{pmatrix}\\end{aligned}$$"
   ]
  },
  {
   "cell_type": "code",
   "execution_count": 121,
   "metadata": {},
   "outputs": [],
   "source": [
    "def klasifikasi_regresi_linear(inp, out):\n",
    "    return np.matmul(np.matmul(np.linalg.inv(np.matmul(inp.T,inp)),inp.T),out)"
   ]
  },
  {
   "attachments": {},
   "cell_type": "markdown",
   "metadata": {},
   "source": [
    "bentuk input seperti matriks diatas\n",
    "$$\\begin{aligned}\\begin{pmatrix}\n",
    "x1_{0} & x2_{0} \\\\\n",
    "x1_{1} & x2_{1} \\\\\n",
    "... & ... \\\\\n",
    "x1_{n} & x2_{n} \\\\\\end{pmatrix}\\end{aligned} \\rightarrow\n",
    "\\begin{aligned}\\begin{pmatrix}\n",
    "1.0 & x1_{0} & x2_{0} \\\\\n",
    "1.0 & x1_{1} & x2_{1} \\\\\n",
    "1.0 & ... & ... \\\\\n",
    "1.0 & x1_{n} & x2_{n} \\\\\\end{pmatrix}\\end{aligned}$$"
   ]
  },
  {
   "cell_type": "code",
   "execution_count": 122,
   "metadata": {},
   "outputs": [
    {
     "data": {
      "text/plain": [
       "array([[1.  , 0.36, 0.47],\n",
       "       [1.  , 0.36, 0.57],\n",
       "       [1.  , 0.15, 0.57],\n",
       "       [1.  , 0.1 , 0.78],\n",
       "       [1.  , 0.21, 0.83],\n",
       "       [1.  , 0.41, 0.1 ],\n",
       "       [1.  , 0.62, 0.05],\n",
       "       [1.  , 0.67, 0.15],\n",
       "       [1.  , 0.93, 0.01],\n",
       "       [1.  , 0.93, 0.05],\n",
       "       [1.  , 0.99, 0.21],\n",
       "       [1.  , 0.57, 0.05],\n",
       "       [1.  , 0.83, 0.83],\n",
       "       [1.  , 0.73, 0.93],\n",
       "       [1.  , 0.57, 0.57],\n",
       "       [1.  , 0.99, 0.57]])"
      ]
     },
     "execution_count": 122,
     "metadata": {},
     "output_type": "execute_result"
    }
   ],
   "source": [
    "jumlah_data, jumlah_kelas = data.shape\n",
    "bias = np.array([np.ones(jumlah_data)]).T\n",
    "input_data = np.hstack((bias, data))\n",
    "input_data"
   ]
  },
  {
   "attachments": {},
   "cell_type": "markdown",
   "metadata": {},
   "source": [
    "Klasifikasi lemari dan buffet"
   ]
  },
  {
   "cell_type": "code",
   "execution_count": 123,
   "metadata": {},
   "outputs": [
    {
     "data": {
      "text/plain": [
       "array([[-0.69],\n",
       "       [-0.62],\n",
       "       [ 2.66]])"
      ]
     },
     "execution_count": 123,
     "metadata": {},
     "output_type": "execute_result"
    }
   ],
   "source": [
    "#atur input lemari dan buffet saja\n",
    "kelas_lemari = input_data[0:5,:]\n",
    "kelas_buffet = input_data[5:12,:]\n",
    "inp = np.vstack((kelas_lemari, kelas_buffet))\n",
    "\n",
    "#atur output lemari -> +1 & buffet -> -1\n",
    "out_lemari = np.array([[1] for _ in range(len(kelas_lemari))])\n",
    "out_buffet = np.array([[-1] for _ in range(len(kelas_buffet))])\n",
    "out = np.vstack((out_lemari, out_buffet))\n",
    "\n",
    "w0 = klasifikasi_regresi_linear(inp,out)\n",
    "w0 = np.round(w0,2)\n",
    "w0\n"
   ]
  },
  {
   "attachments": {},
   "cell_type": "markdown",
   "metadata": {},
   "source": [
    "Klasifikasi lemari dan wardrope"
   ]
  },
  {
   "cell_type": "code",
   "execution_count": 124,
   "metadata": {},
   "outputs": [
    {
     "data": {
      "text/plain": [
       "array([[ 2.25],\n",
       "       [-2.93],\n",
       "       [-1.08]])"
      ]
     },
     "execution_count": 124,
     "metadata": {},
     "output_type": "execute_result"
    }
   ],
   "source": [
    "#atur input lemari dan wardrope saja\n",
    "kelas_lemari = input_data[0:5,:]\n",
    "kelas_wardrope = input_data[12:16,:]\n",
    "inp = np.vstack((kelas_lemari, kelas_wardrope))\n",
    "\n",
    "#atur output lemari -> +1 & wardrope -> -1\n",
    "out_lemari = np.array([[1] for _ in range(len(kelas_lemari))])\n",
    "out_wardrope = np.array([[-1] for _ in range(len(kelas_wardrope))])\n",
    "out = np.vstack((out_lemari, out_wardrope))\n",
    "\n",
    "w1 = klasifikasi_regresi_linear(inp,out)\n",
    "w1 = np.round(w1,2)\n",
    "w1"
   ]
  },
  {
   "attachments": {},
   "cell_type": "markdown",
   "metadata": {},
   "source": [
    "Klasifikasi buffet dan wardrope"
   ]
  },
  {
   "cell_type": "code",
   "execution_count": 125,
   "metadata": {},
   "outputs": [
    {
     "data": {
      "text/plain": [
       "array([[ 1.19],\n",
       "       [-0.03],\n",
       "       [-2.79]])"
      ]
     },
     "execution_count": 125,
     "metadata": {},
     "output_type": "execute_result"
    }
   ],
   "source": [
    "#atur input lemari dan wardrope saja\n",
    "kelas_buffet = input_data[5:12,:]\n",
    "kelas_wardrope = input_data[12:16,:]\n",
    "inp = np.vstack((kelas_buffet, kelas_wardrope))\n",
    "\n",
    "#atur output buffet -> +1 & wardrope -> -1\n",
    "out_buffet = np.array([[1] for _ in range(len(kelas_buffet))])\n",
    "out_wardrope = np.array([[-1] for _ in range(len(kelas_wardrope))])\n",
    "out = np.vstack((out_buffet, out_wardrope))\n",
    "\n",
    "w2 = klasifikasi_regresi_linear(inp,out)\n",
    "w2 = np.round(w2,2)\n",
    "w2"
   ]
  },
  {
   "attachments": {},
   "cell_type": "markdown",
   "metadata": {},
   "source": [
    "## Fungsi Garis Linear\n",
    "$$y = w_{0}+w_{1}\\times x1+w_{2}\\times x2$$"
   ]
  },
  {
   "cell_type": "code",
   "execution_count": 126,
   "metadata": {},
   "outputs": [],
   "source": [
    "garis_linear = lambda w, x: np.matmul(x,w)"
   ]
  },
  {
   "attachments": {},
   "cell_type": "markdown",
   "metadata": {},
   "source": [
    "Kalkulasi F0 dari w0"
   ]
  },
  {
   "cell_type": "code",
   "execution_count": 127,
   "metadata": {},
   "outputs": [
    {
     "data": {
      "text/plain": [
       "array([[ 0.34],\n",
       "       [ 0.6 ],\n",
       "       [ 0.73],\n",
       "       [ 1.32],\n",
       "       [ 1.39],\n",
       "       [-0.68],\n",
       "       [-0.94],\n",
       "       [-0.71],\n",
       "       [-1.24],\n",
       "       [-1.13],\n",
       "       [-0.75],\n",
       "       [-0.91],\n",
       "       [ 1.  ],\n",
       "       [ 1.33],\n",
       "       [ 0.47],\n",
       "       [ 0.21]])"
      ]
     },
     "execution_count": 127,
     "metadata": {},
     "output_type": "execute_result"
    }
   ],
   "source": [
    "y0 = garis_linear(w0,input_data)\n",
    "y0 = np.round(y0, 2)\n",
    "y0"
   ]
  },
  {
   "attachments": {},
   "cell_type": "markdown",
   "metadata": {},
   "source": [
    "Kalkulasi F1 dari w1"
   ]
  },
  {
   "cell_type": "code",
   "execution_count": 128,
   "metadata": {},
   "outputs": [
    {
     "data": {
      "text/plain": [
       "array([[ 0.69],\n",
       "       [ 0.58],\n",
       "       [ 1.19],\n",
       "       [ 1.11],\n",
       "       [ 0.74],\n",
       "       [ 0.94],\n",
       "       [ 0.38],\n",
       "       [ 0.12],\n",
       "       [-0.49],\n",
       "       [-0.53],\n",
       "       [-0.88],\n",
       "       [ 0.53],\n",
       "       [-1.08],\n",
       "       [-0.89],\n",
       "       [-0.04],\n",
       "       [-1.27]])"
      ]
     },
     "execution_count": 128,
     "metadata": {},
     "output_type": "execute_result"
    }
   ],
   "source": [
    "y1 = garis_linear(w1,input_data)\n",
    "y1 = np.round(y1, 2)\n",
    "y1"
   ]
  },
  {
   "attachments": {},
   "cell_type": "markdown",
   "metadata": {},
   "source": [
    "Kalkulasi F2 dari w2"
   ]
  },
  {
   "cell_type": "code",
   "execution_count": 129,
   "metadata": {},
   "outputs": [
    {
     "data": {
      "text/plain": [
       "array([[-0.13],\n",
       "       [-0.41],\n",
       "       [-0.4 ],\n",
       "       [-0.99],\n",
       "       [-1.13],\n",
       "       [ 0.9 ],\n",
       "       [ 1.03],\n",
       "       [ 0.75],\n",
       "       [ 1.13],\n",
       "       [ 1.02],\n",
       "       [ 0.57],\n",
       "       [ 1.03],\n",
       "       [-1.15],\n",
       "       [-1.43],\n",
       "       [-0.42],\n",
       "       [-0.43]])"
      ]
     },
     "execution_count": 129,
     "metadata": {},
     "output_type": "execute_result"
    }
   ],
   "source": [
    "y2 = garis_linear(w2,input_data)\n",
    "y2 = np.round(y2, 2)\n",
    "y2"
   ]
  },
  {
   "attachments": {},
   "cell_type": "markdown",
   "metadata": {},
   "source": [
    "## Fungsi aktivasi bipolar / hardlim\n",
    "$$sgn(x)=\\begin{cases}\n",
    "1, \\text{if } x>0 \\\\\n",
    "0, \\text{if } x=0 \\\\\n",
    "-1, \\text{if } x<0 \\end{cases}$$"
   ]
  },
  {
   "cell_type": "code",
   "execution_count": 130,
   "metadata": {},
   "outputs": [],
   "source": [
    "def aktivasi_hardlim(x):\n",
    "    out = np.array([1 if x_>0 else (0 if x_==0 else -1) for x_ in x])\n",
    "    return out"
   ]
  },
  {
   "attachments": {},
   "cell_type": "markdown",
   "metadata": {},
   "source": [
    "Cari F0, F1, dan F2 dengan memasukkan y0, y1, dan y2 ke fungsi aktivasi_hardlim"
   ]
  },
  {
   "cell_type": "code",
   "execution_count": 131,
   "metadata": {},
   "outputs": [
    {
     "name": "stdout",
     "output_type": "stream",
     "text": [
      "[ 1  1  1  1  1 -1 -1 -1 -1 -1 -1 -1  1  1  1  1]\n",
      "[ 1  1  1  1  1  1  1  1 -1 -1 -1  1 -1 -1 -1 -1]\n",
      "[-1 -1 -1 -1 -1  1  1  1  1  1  1  1 -1 -1 -1 -1]\n"
     ]
    }
   ],
   "source": [
    "F0 = aktivasi_hardlim(y0)\n",
    "F1 = aktivasi_hardlim(y1)\n",
    "F2 = aktivasi_hardlim(y2)\n",
    "print(F0)\n",
    "print(F1)\n",
    "print(F2)"
   ]
  },
  {
   "attachments": {},
   "cell_type": "markdown",
   "metadata": {},
   "source": [
    "buat output untuk labelling"
   ]
  },
  {
   "cell_type": "code",
   "execution_count": 132,
   "metadata": {},
   "outputs": [],
   "source": [
    "#atur output dengan ukuran sesuai data\n",
    "jumlah_data, jumlah_kelas = data.shape\n",
    "output = np.empty(shape=jumlah_data, dtype=object)"
   ]
  },
  {
   "attachments": {},
   "cell_type": "markdown",
   "metadata": {},
   "source": [
    "Labelling Output F0"
   ]
  },
  {
   "cell_type": "code",
   "execution_count": 133,
   "metadata": {},
   "outputs": [],
   "source": [
    "batas_lemari = np.arange(0,5)\n",
    "batas_buffet = np.arange(5,12)\n",
    "batas = np.append(batas_lemari, batas_buffet)\n",
    "\n",
    "for i in batas:\n",
    "    if F0[i] == 1:\n",
    "        output[i] = \"lemari\"\n",
    "    elif F0[i]  == -1:\n",
    "        output[i] = \"buffet\""
   ]
  },
  {
   "attachments": {},
   "cell_type": "markdown",
   "metadata": {},
   "source": [
    "labelling output F1"
   ]
  },
  {
   "cell_type": "code",
   "execution_count": 134,
   "metadata": {},
   "outputs": [],
   "source": [
    "batas_lemari = np.arange(0,5)\n",
    "batas_wardrope = np.arange(12,16)\n",
    "batas = np.append(batas_lemari, batas_wardrope)\n",
    "\n",
    "for i in batas:\n",
    "    if F1[i] == 1:\n",
    "        output[i] = \"lemari\"\n",
    "    elif F1[i]  == -1:\n",
    "        output[i] = \"wardrope\""
   ]
  },
  {
   "attachments": {},
   "cell_type": "markdown",
   "metadata": {},
   "source": [
    "labelling output F2"
   ]
  },
  {
   "cell_type": "code",
   "execution_count": 135,
   "metadata": {},
   "outputs": [],
   "source": [
    "batas_buffet = np.arange(5,12)\n",
    "batas_wardrope = np.arange(12,16)\n",
    "batas = np.append(batas_buffet, batas_wardrope)\n",
    "\n",
    "for i in batas:\n",
    "    if F2[i] == 1:\n",
    "        output[i] = \"buffet\"\n",
    "    elif F2[i]  == -1:\n",
    "        output[i] = \"wardrope\""
   ]
  },
  {
   "attachments": {},
   "cell_type": "markdown",
   "metadata": {},
   "source": [
    "Buat tabel dengan Pandas DataFrame"
   ]
  },
  {
   "cell_type": "code",
   "execution_count": 136,
   "metadata": {},
   "outputs": [
    {
     "data": {
      "text/html": [
       "<div>\n",
       "<style scoped>\n",
       "    .dataframe tbody tr th:only-of-type {\n",
       "        vertical-align: middle;\n",
       "    }\n",
       "\n",
       "    .dataframe tbody tr th {\n",
       "        vertical-align: top;\n",
       "    }\n",
       "\n",
       "    .dataframe thead th {\n",
       "        text-align: right;\n",
       "    }\n",
       "</style>\n",
       "<table border=\"1\" class=\"dataframe\">\n",
       "  <thead>\n",
       "    <tr style=\"text-align: right;\">\n",
       "      <th></th>\n",
       "      <th>x1</th>\n",
       "      <th>x2</th>\n",
       "      <th>y0</th>\n",
       "      <th>y1</th>\n",
       "      <th>y2</th>\n",
       "      <th>F0</th>\n",
       "      <th>F1</th>\n",
       "      <th>F2</th>\n",
       "      <th>out</th>\n",
       "    </tr>\n",
       "  </thead>\n",
       "  <tbody>\n",
       "    <tr>\n",
       "      <th>1</th>\n",
       "      <td>0.36</td>\n",
       "      <td>0.47</td>\n",
       "      <td>0.34</td>\n",
       "      <td>0.69</td>\n",
       "      <td>-0.13</td>\n",
       "      <td>1</td>\n",
       "      <td>1</td>\n",
       "      <td>-1</td>\n",
       "      <td>lemari</td>\n",
       "    </tr>\n",
       "    <tr>\n",
       "      <th>2</th>\n",
       "      <td>0.36</td>\n",
       "      <td>0.57</td>\n",
       "      <td>0.60</td>\n",
       "      <td>0.58</td>\n",
       "      <td>-0.41</td>\n",
       "      <td>1</td>\n",
       "      <td>1</td>\n",
       "      <td>-1</td>\n",
       "      <td>lemari</td>\n",
       "    </tr>\n",
       "    <tr>\n",
       "      <th>3</th>\n",
       "      <td>0.15</td>\n",
       "      <td>0.57</td>\n",
       "      <td>0.73</td>\n",
       "      <td>1.19</td>\n",
       "      <td>-0.40</td>\n",
       "      <td>1</td>\n",
       "      <td>1</td>\n",
       "      <td>-1</td>\n",
       "      <td>lemari</td>\n",
       "    </tr>\n",
       "    <tr>\n",
       "      <th>4</th>\n",
       "      <td>0.10</td>\n",
       "      <td>0.78</td>\n",
       "      <td>1.32</td>\n",
       "      <td>1.11</td>\n",
       "      <td>-0.99</td>\n",
       "      <td>1</td>\n",
       "      <td>1</td>\n",
       "      <td>-1</td>\n",
       "      <td>lemari</td>\n",
       "    </tr>\n",
       "    <tr>\n",
       "      <th>5</th>\n",
       "      <td>0.21</td>\n",
       "      <td>0.83</td>\n",
       "      <td>1.39</td>\n",
       "      <td>0.74</td>\n",
       "      <td>-1.13</td>\n",
       "      <td>1</td>\n",
       "      <td>1</td>\n",
       "      <td>-1</td>\n",
       "      <td>lemari</td>\n",
       "    </tr>\n",
       "    <tr>\n",
       "      <th>6</th>\n",
       "      <td>0.41</td>\n",
       "      <td>0.10</td>\n",
       "      <td>-0.68</td>\n",
       "      <td>0.94</td>\n",
       "      <td>0.90</td>\n",
       "      <td>-1</td>\n",
       "      <td>1</td>\n",
       "      <td>1</td>\n",
       "      <td>buffet</td>\n",
       "    </tr>\n",
       "    <tr>\n",
       "      <th>7</th>\n",
       "      <td>0.62</td>\n",
       "      <td>0.05</td>\n",
       "      <td>-0.94</td>\n",
       "      <td>0.38</td>\n",
       "      <td>1.03</td>\n",
       "      <td>-1</td>\n",
       "      <td>1</td>\n",
       "      <td>1</td>\n",
       "      <td>buffet</td>\n",
       "    </tr>\n",
       "    <tr>\n",
       "      <th>8</th>\n",
       "      <td>0.67</td>\n",
       "      <td>0.15</td>\n",
       "      <td>-0.71</td>\n",
       "      <td>0.12</td>\n",
       "      <td>0.75</td>\n",
       "      <td>-1</td>\n",
       "      <td>1</td>\n",
       "      <td>1</td>\n",
       "      <td>buffet</td>\n",
       "    </tr>\n",
       "    <tr>\n",
       "      <th>9</th>\n",
       "      <td>0.93</td>\n",
       "      <td>0.01</td>\n",
       "      <td>-1.24</td>\n",
       "      <td>-0.49</td>\n",
       "      <td>1.13</td>\n",
       "      <td>-1</td>\n",
       "      <td>-1</td>\n",
       "      <td>1</td>\n",
       "      <td>buffet</td>\n",
       "    </tr>\n",
       "    <tr>\n",
       "      <th>10</th>\n",
       "      <td>0.93</td>\n",
       "      <td>0.05</td>\n",
       "      <td>-1.13</td>\n",
       "      <td>-0.53</td>\n",
       "      <td>1.02</td>\n",
       "      <td>-1</td>\n",
       "      <td>-1</td>\n",
       "      <td>1</td>\n",
       "      <td>buffet</td>\n",
       "    </tr>\n",
       "    <tr>\n",
       "      <th>11</th>\n",
       "      <td>0.99</td>\n",
       "      <td>0.21</td>\n",
       "      <td>-0.75</td>\n",
       "      <td>-0.88</td>\n",
       "      <td>0.57</td>\n",
       "      <td>-1</td>\n",
       "      <td>-1</td>\n",
       "      <td>1</td>\n",
       "      <td>buffet</td>\n",
       "    </tr>\n",
       "    <tr>\n",
       "      <th>12</th>\n",
       "      <td>0.57</td>\n",
       "      <td>0.05</td>\n",
       "      <td>-0.91</td>\n",
       "      <td>0.53</td>\n",
       "      <td>1.03</td>\n",
       "      <td>-1</td>\n",
       "      <td>1</td>\n",
       "      <td>1</td>\n",
       "      <td>buffet</td>\n",
       "    </tr>\n",
       "    <tr>\n",
       "      <th>13</th>\n",
       "      <td>0.83</td>\n",
       "      <td>0.83</td>\n",
       "      <td>1.00</td>\n",
       "      <td>-1.08</td>\n",
       "      <td>-1.15</td>\n",
       "      <td>1</td>\n",
       "      <td>-1</td>\n",
       "      <td>-1</td>\n",
       "      <td>wardrope</td>\n",
       "    </tr>\n",
       "    <tr>\n",
       "      <th>14</th>\n",
       "      <td>0.73</td>\n",
       "      <td>0.93</td>\n",
       "      <td>1.33</td>\n",
       "      <td>-0.89</td>\n",
       "      <td>-1.43</td>\n",
       "      <td>1</td>\n",
       "      <td>-1</td>\n",
       "      <td>-1</td>\n",
       "      <td>wardrope</td>\n",
       "    </tr>\n",
       "    <tr>\n",
       "      <th>15</th>\n",
       "      <td>0.57</td>\n",
       "      <td>0.57</td>\n",
       "      <td>0.47</td>\n",
       "      <td>-0.04</td>\n",
       "      <td>-0.42</td>\n",
       "      <td>1</td>\n",
       "      <td>-1</td>\n",
       "      <td>-1</td>\n",
       "      <td>wardrope</td>\n",
       "    </tr>\n",
       "    <tr>\n",
       "      <th>16</th>\n",
       "      <td>0.99</td>\n",
       "      <td>0.57</td>\n",
       "      <td>0.21</td>\n",
       "      <td>-1.27</td>\n",
       "      <td>-0.43</td>\n",
       "      <td>1</td>\n",
       "      <td>-1</td>\n",
       "      <td>-1</td>\n",
       "      <td>wardrope</td>\n",
       "    </tr>\n",
       "  </tbody>\n",
       "</table>\n",
       "</div>"
      ],
      "text/plain": [
       "      x1    x2    y0    y1    y2  F0  F1  F2       out\n",
       "1   0.36  0.47  0.34  0.69 -0.13   1   1  -1    lemari\n",
       "2   0.36  0.57  0.60  0.58 -0.41   1   1  -1    lemari\n",
       "3   0.15  0.57  0.73  1.19 -0.40   1   1  -1    lemari\n",
       "4   0.10  0.78  1.32  1.11 -0.99   1   1  -1    lemari\n",
       "5   0.21  0.83  1.39  0.74 -1.13   1   1  -1    lemari\n",
       "6   0.41  0.10 -0.68  0.94  0.90  -1   1   1    buffet\n",
       "7   0.62  0.05 -0.94  0.38  1.03  -1   1   1    buffet\n",
       "8   0.67  0.15 -0.71  0.12  0.75  -1   1   1    buffet\n",
       "9   0.93  0.01 -1.24 -0.49  1.13  -1  -1   1    buffet\n",
       "10  0.93  0.05 -1.13 -0.53  1.02  -1  -1   1    buffet\n",
       "11  0.99  0.21 -0.75 -0.88  0.57  -1  -1   1    buffet\n",
       "12  0.57  0.05 -0.91  0.53  1.03  -1   1   1    buffet\n",
       "13  0.83  0.83  1.00 -1.08 -1.15   1  -1  -1  wardrope\n",
       "14  0.73  0.93  1.33 -0.89 -1.43   1  -1  -1  wardrope\n",
       "15  0.57  0.57  0.47 -0.04 -0.42   1  -1  -1  wardrope\n",
       "16  0.99  0.57  0.21 -1.27 -0.43   1  -1  -1  wardrope"
      ]
     },
     "metadata": {},
     "output_type": "display_data"
    }
   ],
   "source": [
    "df = pd.DataFrame({\"x1\":x1_data, \"x2\":x2_data, \"y0\":(y[0] for y in y0), \n",
    "                   \"y1\":(y[0] for y in y1), \"y2\":(y[0] for y in y2),\n",
    "                   \"F0\":F0, \"F1\":F1, \"F2\":F2, \"out\":output})\n",
    "# tabel index dimulai dari angka 1\n",
    "df.index += 1\n",
    "display(df)"
   ]
  }
 ],
 "metadata": {
  "kernelspec": {
   "display_name": "base",
   "language": "python",
   "name": "python3"
  },
  "language_info": {
   "codemirror_mode": {
    "name": "ipython",
    "version": 3
   },
   "file_extension": ".py",
   "mimetype": "text/x-python",
   "name": "python",
   "nbconvert_exporter": "python",
   "pygments_lexer": "ipython3",
   "version": "3.10.9"
  },
  "orig_nbformat": 4
 },
 "nbformat": 4,
 "nbformat_minor": 2
}
